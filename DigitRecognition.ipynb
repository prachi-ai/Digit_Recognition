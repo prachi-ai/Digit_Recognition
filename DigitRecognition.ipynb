{
  "nbformat": 4,
  "nbformat_minor": 0,
  "metadata": {
    "colab": {
      "name": "DigitRecognition.ipynb",
      "provenance": [],
      "authorship_tag": "ABX9TyOw9iKRzE8MWcFrJ/NWFFcb",
      "include_colab_link": true
    },
    "kernelspec": {
      "name": "python3",
      "display_name": "Python 3"
    }
  },
  "cells": [
    {
      "cell_type": "markdown",
      "metadata": {
        "id": "view-in-github",
        "colab_type": "text"
      },
      "source": [
        "<a href=\"https://colab.research.google.com/github/prachi-ai/Digit_Recognition/blob/main/DigitRecognition.ipynb\" target=\"_parent\"><img src=\"https://colab.research.google.com/assets/colab-badge.svg\" alt=\"Open In Colab\"/></a>"
      ]
    },
    {
      "cell_type": "code",
      "metadata": {
        "id": "d6B5uH3wzrCz"
      },
      "source": [
        "import pandas as pd\n",
        "from sklearn.model_selection import train_test_split"
      ],
      "execution_count": null,
      "outputs": []
    },
    {
      "cell_type": "code",
      "metadata": {
        "id": "LFtYdqOcW0Ji"
      },
      "source": [
        "import numpy as np\n"
      ],
      "execution_count": null,
      "outputs": []
    },
    {
      "cell_type": "code",
      "metadata": {
        "id": "SzHRpIMy6PQx",
        "outputId": "d54bf510-59f6-4712-8ff3-baafc46fdaae",
        "colab": {
          "base_uri": "https://localhost:8080/",
          "height": 51
        }
      },
      "source": [
        "!unzip '/content/Train_UQcUa52 (1).zip'"
      ],
      "execution_count": null,
      "outputs": [
        {
          "output_type": "stream",
          "text": [
            "Archive:  /content/Train_UQcUa52 (1).zip\n",
            "replace Images/test/49000.png? [y]es, [n]o, [A]ll, [N]one, [r]ename: "
          ],
          "name": "stdout"
        }
      ]
    },
    {
      "cell_type": "code",
      "metadata": {
        "id": "epoLFftS6dZ0",
        "outputId": "85dc6898-e7e6-4eb8-f39d-97a567633935",
        "colab": {
          "base_uri": "https://localhost:8080/",
          "height": 204
        }
      },
      "source": [
        "df = pd.read_csv(\"/content/train.csv\")\n",
        "df.head()"
      ],
      "execution_count": null,
      "outputs": [
        {
          "output_type": "execute_result",
          "data": {
            "text/html": [
              "<div>\n",
              "<style scoped>\n",
              "    .dataframe tbody tr th:only-of-type {\n",
              "        vertical-align: middle;\n",
              "    }\n",
              "\n",
              "    .dataframe tbody tr th {\n",
              "        vertical-align: top;\n",
              "    }\n",
              "\n",
              "    .dataframe thead th {\n",
              "        text-align: right;\n",
              "    }\n",
              "</style>\n",
              "<table border=\"1\" class=\"dataframe\">\n",
              "  <thead>\n",
              "    <tr style=\"text-align: right;\">\n",
              "      <th></th>\n",
              "      <th>filename</th>\n",
              "      <th>label</th>\n",
              "    </tr>\n",
              "  </thead>\n",
              "  <tbody>\n",
              "    <tr>\n",
              "      <th>0</th>\n",
              "      <td>0.png</td>\n",
              "      <td>4</td>\n",
              "    </tr>\n",
              "    <tr>\n",
              "      <th>1</th>\n",
              "      <td>1.png</td>\n",
              "      <td>9</td>\n",
              "    </tr>\n",
              "    <tr>\n",
              "      <th>2</th>\n",
              "      <td>2.png</td>\n",
              "      <td>1</td>\n",
              "    </tr>\n",
              "    <tr>\n",
              "      <th>3</th>\n",
              "      <td>3.png</td>\n",
              "      <td>7</td>\n",
              "    </tr>\n",
              "    <tr>\n",
              "      <th>4</th>\n",
              "      <td>4.png</td>\n",
              "      <td>3</td>\n",
              "    </tr>\n",
              "  </tbody>\n",
              "</table>\n",
              "</div>"
            ],
            "text/plain": [
              "  filename  label\n",
              "0    0.png      4\n",
              "1    1.png      9\n",
              "2    2.png      1\n",
              "3    3.png      7\n",
              "4    4.png      3"
            ]
          },
          "metadata": {
            "tags": []
          },
          "execution_count": 3
        }
      ]
    },
    {
      "cell_type": "code",
      "metadata": {
        "id": "c10mvDlD7ThK"
      },
      "source": [
        "X = df.filename\n",
        "Y = df.label"
      ],
      "execution_count": null,
      "outputs": []
    },
    {
      "cell_type": "code",
      "metadata": {
        "id": "JC46XGWO70W0",
        "outputId": "e7a7a60e-c396-4a19-d361-8ac52e049655",
        "colab": {
          "base_uri": "https://localhost:8080/",
          "height": 34
        }
      },
      "source": [
        "import matplotlib.image as mpimg \n",
        "import matplotlib.pyplot as plt\n",
        "X_data = []\n",
        "for name in X:\n",
        "  path = \"/content/Images/train/\"+name\n",
        "  i = mpimg.imread(path)\n",
        "  X_data.append(i)\n",
        "np.array(X_data[112]).shape\n"
      ],
      "execution_count": null,
      "outputs": [
        {
          "output_type": "execute_result",
          "data": {
            "text/plain": [
              "(28, 28, 4)"
            ]
          },
          "metadata": {
            "tags": []
          },
          "execution_count": 5
        }
      ]
    },
    {
      "cell_type": "code",
      "metadata": {
        "id": "9mJCY4n58KqB"
      },
      "source": [
        "x_train, x_test, y_train, y_test = train_test_split(X_data, Y, test_size=0.20)"
      ],
      "execution_count": null,
      "outputs": []
    },
    {
      "cell_type": "code",
      "metadata": {
        "id": "R2J9q372AhQr",
        "outputId": "4b387528-fefd-485e-96d9-f1f07d74f78a",
        "colab": {
          "base_uri": "https://localhost:8080/",
          "height": 34
        }
      },
      "source": [
        "x_train = np.array(x_train)\n",
        "x_test = np.array(x_test)\n",
        "#x_train.reshape(-1,1)\n",
        "x_train.shape\n",
        "#plt.imshow(np.round(x_train[115]))"
      ],
      "execution_count": null,
      "outputs": [
        {
          "output_type": "execute_result",
          "data": {
            "text/plain": [
              "(39200, 28, 28, 4)"
            ]
          },
          "metadata": {
            "tags": []
          },
          "execution_count": 49
        }
      ]
    },
    {
      "cell_type": "code",
      "metadata": {
        "id": "zQ1H47NPArcM",
        "outputId": "d941138c-8946-428d-c3af-d40b9e57ea1a",
        "colab": {
          "base_uri": "https://localhost:8080/",
          "height": 68
        }
      },
      "source": [
        "# Reshaping the array to 4-dims so that it can work with the Keras API\n",
        "\n",
        "#x_train = x_train.reshape(x_train.shape[0], 56, 56, 1)\n",
        "#x_test = x_test.reshape(x_test.shape[0], 56, 56, 1)\n",
        "input_shape = (28, 28, 4)\n",
        "# Making sure that the values are float so that we can get decimal points after division\n",
        "x_train = x_train.astype('float32')\n",
        "x_test = x_test.astype('float32')\n",
        "# Normalizing the RGB codes by dividing it to the max RGB value.\n",
        "#x_train /= 255\n",
        "#x_test /= 255\n",
        "print('x_train shape:', x_train.shape)\n",
        "print('Number of images in x_train', x_train.shape[0])\n",
        "print('Number of images in x_test', x_test.shape[0])"
      ],
      "execution_count": null,
      "outputs": [
        {
          "output_type": "stream",
          "text": [
            "x_train shape: (39200, 28, 28, 4)\n",
            "Number of images in x_train 39200\n",
            "Number of images in x_test 9800\n"
          ],
          "name": "stdout"
        }
      ]
    },
    {
      "cell_type": "code",
      "metadata": {
        "id": "O8RIjgfPWZEz"
      },
      "source": [
        "# Importing the required Keras modules containing model and layers\n",
        "import keras\n",
        "import tensorflow as tf\n",
        "from keras.models import Sequential\n",
        "from keras.layers import Dense, Conv2D, Dropout, Flatten, MaxPooling2D\n",
        "# Creating a Sequential Model and adding the layers\n",
        "model = Sequential()\n",
        "model.add(Conv2D(28, kernel_size=(3,3), input_shape=input_shape))\n",
        "model.add(MaxPooling2D(pool_size=(2, 2)))\n",
        "model.add(Flatten()) # Flattening the 2D arrays for fully connected layers\n",
        "model.add(Dense(128, activation=tf.nn.relu))\n",
        "model.add(Dropout(0.2))\n",
        "model.add(Dense(10,activation=tf.nn.softmax))"
      ],
      "execution_count": null,
      "outputs": []
    },
    {
      "cell_type": "code",
      "metadata": {
        "id": "BjmeGpKYXv0V",
        "outputId": "1dc64c0c-297e-40b7-a7a9-297b287c18f5",
        "colab": {
          "base_uri": "https://localhost:8080/",
          "height": 714
        }
      },
      "source": [
        "model.compile(optimizer='adam', \n",
        "              loss='sparse_categorical_crossentropy', \n",
        "              metrics=['accuracy'])\n",
        "model.fit(x=x_train,y=y_train, epochs=20)"
      ],
      "execution_count": null,
      "outputs": [
        {
          "output_type": "stream",
          "text": [
            "Epoch 1/20\n",
            "39200/39200 [==============================] - 27s 691us/step - loss: 0.0336 - accuracy: 0.9891\n",
            "Epoch 2/20\n",
            "39200/39200 [==============================] - 27s 677us/step - loss: 0.0282 - accuracy: 0.9907\n",
            "Epoch 3/20\n",
            "39200/39200 [==============================] - 27s 691us/step - loss: 0.0244 - accuracy: 0.9918\n",
            "Epoch 4/20\n",
            "39200/39200 [==============================] - 27s 684us/step - loss: 0.0292 - accuracy: 0.9909\n",
            "Epoch 5/20\n",
            "39200/39200 [==============================] - 27s 682us/step - loss: 0.0221 - accuracy: 0.9925\n",
            "Epoch 6/20\n",
            "39200/39200 [==============================] - 29s 750us/step - loss: 0.0232 - accuracy: 0.9931\n",
            "Epoch 7/20\n",
            "39200/39200 [==============================] - 26s 675us/step - loss: 0.0219 - accuracy: 0.9927\n",
            "Epoch 8/20\n",
            "39200/39200 [==============================] - 26s 672us/step - loss: 0.0243 - accuracy: 0.9919\n",
            "Epoch 9/20\n",
            "39200/39200 [==============================] - 27s 681us/step - loss: 0.0196 - accuracy: 0.9935\n",
            "Epoch 10/20\n",
            "39200/39200 [==============================] - 27s 686us/step - loss: 0.0231 - accuracy: 0.9931\n",
            "Epoch 11/20\n",
            "39200/39200 [==============================] - 27s 681us/step - loss: 0.0195 - accuracy: 0.9939\n",
            "Epoch 12/20\n",
            "39200/39200 [==============================] - 27s 684us/step - loss: 0.0221 - accuracy: 0.9932\n",
            "Epoch 13/20\n",
            "39200/39200 [==============================] - 27s 688us/step - loss: 0.0174 - accuracy: 0.9948\n",
            "Epoch 14/20\n",
            "39200/39200 [==============================] - 27s 683us/step - loss: 0.0172 - accuracy: 0.9945\n",
            "Epoch 15/20\n",
            "39200/39200 [==============================] - 27s 685us/step - loss: 0.0183 - accuracy: 0.9945\n",
            "Epoch 16/20\n",
            "39200/39200 [==============================] - 27s 692us/step - loss: 0.0176 - accuracy: 0.9946\n",
            "Epoch 17/20\n",
            "39200/39200 [==============================] - 27s 684us/step - loss: 0.0182 - accuracy: 0.9945\n",
            "Epoch 18/20\n",
            "39200/39200 [==============================] - 27s 690us/step - loss: 0.0184 - accuracy: 0.9944\n",
            "Epoch 19/20\n",
            "39200/39200 [==============================] - 27s 692us/step - loss: 0.0191 - accuracy: 0.9940\n",
            "Epoch 20/20\n",
            "39200/39200 [==============================] - 27s 690us/step - loss: 0.0159 - accuracy: 0.9947\n"
          ],
          "name": "stdout"
        },
        {
          "output_type": "execute_result",
          "data": {
            "text/plain": [
              "<keras.callbacks.callbacks.History at 0x7f093265be10>"
            ]
          },
          "metadata": {
            "tags": []
          },
          "execution_count": 100
        }
      ]
    },
    {
      "cell_type": "code",
      "metadata": {
        "id": "DnV08NG_mBxq",
        "outputId": "aadfaa40-7ceb-42dd-b1e9-c7259f1065f8",
        "colab": {
          "base_uri": "https://localhost:8080/",
          "height": 51
        }
      },
      "source": [
        "model.evaluate(x_test, y_test)"
      ],
      "execution_count": null,
      "outputs": [
        {
          "output_type": "stream",
          "text": [
            "9800/9800 [==============================] - 2s 225us/step\n"
          ],
          "name": "stdout"
        },
        {
          "output_type": "execute_result",
          "data": {
            "text/plain": [
              "[0.1390513840881393, 0.9819387793540955]"
            ]
          },
          "metadata": {
            "tags": []
          },
          "execution_count": 101
        }
      ]
    },
    {
      "cell_type": "code",
      "metadata": {
        "id": "U9XUm6ecXzv1",
        "outputId": "0c33145d-ee54-4de4-d555-5af256d94dae",
        "colab": {
          "base_uri": "https://localhost:8080/",
          "height": 282
        }
      },
      "source": [
        "image_index = 4924\n",
        "plt.imshow(np.round(x_test[image_index]),cmap='Greys')\n",
        "pred = model.predict(x_test[image_index].reshape(1, 28, 28, 4))\n",
        "print('The predicted label:', pred.argmax())"
      ],
      "execution_count": null,
      "outputs": [
        {
          "output_type": "stream",
          "text": [
            "The predicted label: 9\n"
          ],
          "name": "stdout"
        },
        {
          "output_type": "display_data",
          "data": {
            "image/png": "[encoded data removed]",
            "text/plain": [
              "<Figure size 432x288 with 1 Axes>"
            ]
          },
          "metadata": {
            "tags": [],
            "needs_background": "light"
          }
        }
      ]
    },
    {
      "cell_type": "code",
      "metadata": {
        "id": "U_OMenWYcqyX",
        "outputId": "7ab16eb4-4944-48e0-aa9b-fc58ffc15498",
        "colab": {
          "base_uri": "https://localhost:8080/",
          "height": 34
        }
      },
      "source": [
        "solution = pd.read_csv('/content/test.csv')\n",
        "valid = solution.filename\n",
        "valid[0]"
      ],
      "execution_count": null,
      "outputs": [
        {
          "output_type": "execute_result",
          "data": {
            "text/plain": [
              "'49000.png'"
            ]
          },
          "metadata": {
            "tags": []
          },
          "execution_count": 103
        }
      ]
    },
    {
      "cell_type": "code",
      "metadata": {
        "id": "UEMwbeLamfSI"
      },
      "source": [
        "X_valid = []\n",
        "for name in valid:\n",
        "  path = '/content/Images/test/'+name\n",
        "  i = mpimg.imread(path)\n",
        "  X_valid.append(i)"
      ],
      "execution_count": null,
      "outputs": []
    },
    {
      "cell_type": "code",
      "metadata": {
        "id": "lGiZB0Jqn2fD"
      },
      "source": [
        "label = []\n",
        "for img in X_valid:\n",
        "  label_pred = model.predict(img.reshape(1, 28, 28, 4))\n",
        "  label.append(label_pred.argmax())\n",
        "  \n",
        "\n"
      ],
      "execution_count": null,
      "outputs": []
    },
    {
      "cell_type": "code",
      "metadata": {
        "id": "COYNF1SUoROj",
        "outputId": "ede7d7c7-a0b9-4ae8-9762-8e14f35b7fc5",
        "colab": {
          "base_uri": "https://localhost:8080/",
          "height": 255
        }
      },
      "source": [
        "solution[\"label\"]=label\n",
        "solution.head"
      ],
      "execution_count": null,
      "outputs": [
        {
          "output_type": "execute_result",
          "data": {
            "text/plain": [
              "<bound method NDFrame.head of         filename  label\n",
              "0      49000.png      4\n",
              "1      49001.png      0\n",
              "2      49002.png      9\n",
              "3      49003.png      7\n",
              "4      49004.png      9\n",
              "...          ...    ...\n",
              "20995  69995.png      9\n",
              "20996  69996.png      2\n",
              "20997  69997.png      6\n",
              "20998  69998.png      6\n",
              "20999  69999.png      2\n",
              "\n",
              "[21000 rows x 2 columns]>"
            ]
          },
          "metadata": {
            "tags": []
          },
          "execution_count": 106
        }
      ]
    },
    {
      "cell_type": "code",
      "metadata": {
        "id": "PmAGHyFMoSe7"
      },
      "source": [
        "solution.to_csv(\"solution1.csv\")"
      ],
      "execution_count": null,
      "outputs": []
    },
    {
      "cell_type": "code",
      "metadata": {
        "id": "nmPQbJdJuGFn"
      },
      "source": [
        ""
      ],
      "execution_count": null,
      "outputs": []
    }
  ]
}